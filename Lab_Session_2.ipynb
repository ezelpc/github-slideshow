{
  "nbformat": 4,
  "nbformat_minor": 0,
  "metadata": {
    "colab": {
      "provenance": [],
      "authorship_tag": "ABX9TyPRRuyzW2Dy5H+67TynC9ly",
      "include_colab_link": true
    },
    "kernelspec": {
      "name": "python3",
      "display_name": "Python 3"
    },
    "language_info": {
      "name": "python"
    }
  },
  "cells": [
    {
      "cell_type": "markdown",
      "metadata": {
        "id": "view-in-github",
        "colab_type": "text"
      },
      "source": [
        "<a href=\"https://colab.research.google.com/github/ezelpc/github-slideshow/blob/main/Lab_Session_2.ipynb\" target=\"_parent\"><img src=\"https://colab.research.google.com/assets/colab-badge.svg\" alt=\"Open In Colab\"/></a>"
      ]
    },
    {
      "cell_type": "code",
      "execution_count": null,
      "metadata": {
        "id": "wu0D9YunPi3t",
        "colab": {
          "base_uri": "https://localhost:8080/"
        },
        "outputId": "d816f9fd-4a84-4bb2-d603-7566131f8955"
      },
      "outputs": [
        {
          "output_type": "stream",
          "name": "stdout",
          "text": [
            "Ejemplo 1: Valor máximo = 0\n",
            "Ejemplo 2: Valor máximo = 0\n"
          ]
        }
      ],
      "source": [
        "#knapsack problem\n",
        "def mochila (pes, val, cap ):\n",
        "  n=len(pes)\n",
        "  d=[[0]*(cap + 1) for _ in range(n + 1)]\n",
        "  for i  in range (1, n +1):\n",
        "    for j in range (1, cap + 1):\n",
        "      if pes[i-1] <= j:\n",
        "        d[i][j] = max(d[i - 1][j], d[i - 1][j - pes[i - 1]] + val[i - 1])\n",
        "      else:\n",
        "          d[i][j] = d[i - 1][j]\n",
        "      return d[n][cap]\n",
        "\n",
        "# Ejemplo 1\n",
        "pes= [2, 3, 4, 5]\n",
        "val = [3, 4, 5, 6]\n",
        "cap = 5\n",
        "resultado1 = mochila(pes, val, cap)\n",
        "print(\"Ejemplo 1: Valor máximo =\", resultado1)\n",
        "\n",
        "# Ejemplo 2\n",
        "pesos2 = [1, 2, 3]\n",
        "valores2 = [10, 15, 40]\n",
        "capacidad2 = 6\n",
        "resultado2 = mochila(pesos2, valores2, capacidad2)\n",
        "print(\"Ejemplo 2: Valor máximo =\", resultado2)\n"
      ]
    }
  ]
}